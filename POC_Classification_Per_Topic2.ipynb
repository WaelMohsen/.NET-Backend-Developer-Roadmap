{
  "cells": [
    {
      "cell_type": "markdown",
      "metadata": {
        "id": "view-in-github",
        "colab_type": "text"
      },
      "source": [
        "<a href=\"https://colab.research.google.com/github/WaelMohsen/.NET-Backend-Developer-Roadmap/blob/master/POC_Classification_Per_Topic2.ipynb\" target=\"_parent\"><img src=\"https://colab.research.google.com/assets/colab-badge.svg\" alt=\"Open In Colab\"/></a>"
      ]
    },
    {
      "cell_type": "markdown",
      "source": [
        "---\n",
        "#Setup and Constructions"
      ],
      "metadata": {
        "id": "CLSOfjmDVDBP"
      }
    },
    {
      "cell_type": "code",
      "execution_count": null,
      "metadata": {
        "id": "TokLdyuNHH4a"
      },
      "outputs": [],
      "source": [
        "!pip install bertopic==0.16.0 datasets==2.16.1 Arabic-Stopwords==0.4.3"
      ]
    },
    {
      "cell_type": "code",
      "execution_count": null,
      "metadata": {
        "id": "NRVacgM4KPPw"
      },
      "outputs": [],
      "source": [
        "from datasets import load_dataset\n",
        "import pandas as myPandas\n",
        "import re\n",
        "import random\n",
        "\n",
        "import nltk\n",
        "nltk.download('punkt')\n",
        "from nltk.tokenize import word_tokenize\n",
        "\n",
        "import matplotlib.pyplot as myMatPlot\n",
        "import seaborn as mySeaBorn\n",
        "\n",
        "from datetime import datetime"
      ]
    },
    {
      "cell_type": "markdown",
      "source": [
        "---\n",
        "#Data Cleansing function"
      ],
      "metadata": {
        "id": "aiWv7q42UMl9"
      }
    },
    {
      "cell_type": "code",
      "source": [
        "def clean_text(text: str):\n",
        "    if not isinstance(text, str):\n",
        "        # raise TypeError(\"text must be a string\")\n",
        "        return \"\"\n",
        "\n",
        "    # remove urls\n",
        "    text = re.sub(r\"http\\S+\", \"URL\", text)\n",
        "\n",
        "    # replace any digit with Numeric\n",
        "    text = re.sub(r\"\\d+\", \"Numeric\", text)\n",
        "\n",
        "    # set space before and after any punctuation\n",
        "    text = re.sub(r\"([^\\w\\s])\", r\" \\1 \", text)\n",
        "\n",
        "    # remove extra spaces\n",
        "    text = re.sub(r\"\\s+\", \" \", text)\n",
        "\n",
        "    words = word_tokenize(text)\n",
        "    text = \" \".join([ w for w in words if len(w) > 1 ] )\n",
        "\n",
        "    return text.lower().strip()"
      ],
      "metadata": {
        "id": "1P_gMobDUOva"
      },
      "execution_count": null,
      "outputs": []
    },
    {
      "cell_type": "markdown",
      "source": [
        "\n",
        "\n",
        "---\n",
        "\n",
        "\n",
        "#Load Data Sets"
      ],
      "metadata": {
        "id": "fnGLMb-0TmJQ"
      }
    },
    {
      "cell_type": "code",
      "execution_count": null,
      "metadata": {
        "id": "RllxopoNKgPW"
      },
      "outputs": [],
      "source": [
        "englishDataSet = load_dataset(\"m-ric/english_historical_quotes\")"
      ]
    },
    {
      "cell_type": "code",
      "execution_count": null,
      "metadata": {
        "id": "2VaqOXGJLG4z"
      },
      "outputs": [],
      "source": [
        "feedbackDataSet = load_dataset(\"kaist-ai/Feedback-Collection\")"
      ]
    },
    {
      "cell_type": "code",
      "execution_count": null,
      "metadata": {
        "id": "VAnKk_thLM0F"
      },
      "outputs": [],
      "source": [
        "newsDataSet = load_dataset(\"saudinewsnet\")"
      ]
    },
    {
      "cell_type": "code",
      "execution_count": null,
      "metadata": {
        "id": "UObvOBwQMmqF"
      },
      "outputs": [],
      "source": [
        "englishDataSet['train'][0]"
      ]
    },
    {
      "cell_type": "code",
      "execution_count": null,
      "metadata": {
        "id": "5FseT9iYNn9c"
      },
      "outputs": [],
      "source": [
        "feedbackDataSet['train'][0]"
      ]
    },
    {
      "cell_type": "code",
      "execution_count": null,
      "metadata": {
        "id": "6KjTuA_eNr5f"
      },
      "outputs": [],
      "source": [
        "newsDataSet['train'][0]"
      ]
    },
    {
      "cell_type": "markdown",
      "source": [
        "\n",
        "\n",
        "---\n",
        "\n",
        "\n",
        "#Build Dictionary for each dataset"
      ],
      "metadata": {
        "id": "AzmerCAjTr8Y"
      }
    },
    {
      "cell_type": "code",
      "execution_count": null,
      "metadata": {
        "id": "Lt3Tl5MoOY31"
      },
      "outputs": [],
      "source": [
        "dic_newsDataSet = [\n",
        "    {\n",
        "        \"text\": record[\"content\"],\n",
        "        \"source\": record[\"source\"],\n",
        "        \"date\": record[\"date_extracted\"]\n",
        "    }\n",
        "    for record in newsDataSet['train']\n",
        "]\n",
        "\n",
        "dic_feedbackDataSet = [\n",
        "    {\n",
        "        \"instruction\": record[\"orig_instruction\"],\n",
        "        \"feedback\": record[\"orig_feedback\"],\n",
        "        \"response\": record[\"orig_response\"],\n",
        "        \"score\": record[\"orig_score\"]\n",
        "    }\n",
        "    for record in feedbackDataSet['train']\n",
        "]\n",
        "\n",
        "dic_englishDataSet = [\n",
        "    {\n",
        "        \"text\": record[\"quote\"],\n",
        "        \"source\": record[\"author\"]\n",
        "    }\n",
        "    for record in englishDataSet['train']\n",
        "]"
      ]
    },
    {
      "cell_type": "markdown",
      "source": [
        "\n",
        "\n",
        "---\n",
        "\n",
        "\n",
        "#Convert the Dictionaries to Data Frames\n"
      ],
      "metadata": {
        "id": "aHWAGXLLTwX9"
      }
    },
    {
      "cell_type": "code",
      "execution_count": null,
      "metadata": {
        "id": "YNk5YcCXOtay"
      },
      "outputs": [],
      "source": [
        "newsDataFrame = myPandas.DataFrame( dic_newsDataSet )\n",
        "newsDataFrame = newsDataFrame.sample(frac=1, random_state = 611)\n",
        "\n",
        "feedbackDataFrame = myPandas.DataFrame( dic_feedbackDataSet )\n",
        "feedbackDataFrame = feedbackDataFrame.sample(frac=1, random_state = 611)\n",
        "\n",
        "englishDataFrame = myPandas.DataFrame( dic_englishDataSet )\n",
        "englishDataFrame = englishDataFrame.sample(frac=1, random_state = 611)"
      ]
    },
    {
      "cell_type": "code",
      "source": [
        "newsDataFrame.head()"
      ],
      "metadata": {
        "id": "8Z93WG36ey8c"
      },
      "execution_count": null,
      "outputs": []
    },
    {
      "cell_type": "code",
      "source": [
        "feedbackDataFrame.head()"
      ],
      "metadata": {
        "id": "H9Hfo1FPfUD3"
      },
      "execution_count": null,
      "outputs": []
    },
    {
      "cell_type": "code",
      "source": [
        "englishDataFrame.head()"
      ],
      "metadata": {
        "id": "86FjeQZSfVPz"
      },
      "execution_count": null,
      "outputs": []
    },
    {
      "cell_type": "markdown",
      "source": [
        "\n",
        "\n",
        "---\n",
        "\n",
        "\n",
        "#Clean the data of type string/text\n"
      ],
      "metadata": {
        "id": "thBvv6gsT0Vo"
      }
    },
    {
      "cell_type": "code",
      "execution_count": null,
      "metadata": {
        "id": "Fx3hLOMVRDNv"
      },
      "outputs": [],
      "source": [
        "newsDataFrame['text'] = newsDataFrame['text'].apply(clean_text)\n",
        "\n",
        "# feedbackDataFrame['instruction'] = feedbackDataFrame['instruction'].apply(clean_text)\n",
        "# feedbackDataFrame['feedback'] = feedbackDataFrame['feedback'].apply(clean_text)\n",
        "# feedbackDataFrame['response'] = feedbackDataFrame['response'].apply(clean_text)\n",
        "\n",
        "englishDataFrame['text'] = englishDataFrame['text'].apply(clean_text)"
      ]
    },
    {
      "cell_type": "markdown",
      "source": [
        "---\n",
        "#Add extra length field to describe the data length\n",
        "\n"
      ],
      "metadata": {
        "id": "4TJHYVhNUAeA"
      }
    },
    {
      "cell_type": "code",
      "execution_count": null,
      "metadata": {
        "id": "qDurmnn0Uz6k"
      },
      "outputs": [],
      "source": [
        "newsDataFrame['text_length'] = newsDataFrame['text'].apply(len)\n",
        "\n",
        "feedbackDataFrame['instruction_length'] = feedbackDataFrame['instruction'].apply(len)\n",
        "feedbackDataFrame['feedback_length'] = feedbackDataFrame['feedback'].apply(len)\n",
        "feedbackDataFrame['response_length'] = feedbackDataFrame['response'].apply(len)\n",
        "\n",
        "englishDataFrame['text_length'] = englishDataFrame['text'].apply(len)"
      ]
    },
    {
      "cell_type": "code",
      "execution_count": null,
      "metadata": {
        "id": "yETAaS4dVfvl"
      },
      "outputs": [],
      "source": [
        "newsDataFrame.head()"
      ]
    },
    {
      "cell_type": "code",
      "source": [
        "#feedbackDataFrame.head()\n",
        "englishDataFrame.head()"
      ],
      "metadata": {
        "id": "SiaHzAEIBHEc"
      },
      "execution_count": null,
      "outputs": []
    },
    {
      "cell_type": "markdown",
      "source": [
        "---\n",
        "#Visualize the data over a histograms\n",
        "\n",
        "\n"
      ],
      "metadata": {
        "id": "rKEiT7CPUG3G"
      }
    },
    {
      "cell_type": "code",
      "execution_count": null,
      "metadata": {
        "id": "qfSaLQ4GmEtI"
      },
      "outputs": [],
      "source": [
        "myMatPlot.figure(figsize=(12, 6))\n",
        "mySeaBorn.histplot(englishDataFrame['text_length'], bins=50)\n",
        "\n",
        "#mySeaBorn.histplot(feedbackDataFrame['instruction_length'], bins=50)\n",
        "#mySeaBorn.histplot(feedbackDataFrame['feedback_length'], bins=50)\n",
        "#mySeaBorn.histplot(feedbackDataFrame['response_length'], bins=50)\n",
        "\n",
        "#mySeaBorn.histplot(newsDataFrame['text_length'], bins=50)"
      ]
    },
    {
      "cell_type": "code",
      "execution_count": null,
      "metadata": {
        "id": "b0X2DIpKBQrQ"
      },
      "outputs": [],
      "source": [
        "myMatPlot.figure(figsize=(12, 6))\n",
        "#mySeaBorn.histplot(englishDataFrame['text_length'], bins=50)\n",
        "\n",
        "#mySeaBorn.histplot(feedbackDataFrame['instruction_length'], bins=50)\n",
        "#mySeaBorn.histplot(feedbackDataFrame['feedback_length'], bins=50)\n",
        "#mySeaBorn.histplot(feedbackDataFrame['response_length'], bins=50)\n",
        "\n",
        "mySeaBorn.histplot(newsDataFrame['text_length'], bins=50)"
      ]
    },
    {
      "cell_type": "markdown",
      "source": [
        "---\n",
        "#Add more cleansing based on the length and duplications\n",
        "\n",
        "\n"
      ],
      "metadata": {
        "id": "g0IRvnYCUMNd"
      }
    },
    {
      "cell_type": "code",
      "execution_count": null,
      "metadata": {
        "id": "gAA-LJJAONDD"
      },
      "outputs": [],
      "source": [
        "#--------------------------------------------------------------------------------------------------------------\n",
        "print(\"newsDataFrame = \", newsDataFrame.shape)\n",
        "newsDataFrame = newsDataFrame[ newsDataFrame['text_length'] <= 6000 ]\n",
        "newsDataFrame.drop_duplicates(['text'], inplace = True)\n",
        "print(\"newsDataFrame = \", newsDataFrame.shape)\n",
        "\n",
        "#--------------------------------------------------------------------------------------------------------------\n",
        "print(\"englishDataFrame = \", englishDataFrame.shape)\n",
        "englishDataFrame = englishDataFrame[ englishDataFrame['text_length'] <= 270 ]\n",
        "englishDataFrame.drop_duplicates(['text'], inplace = True)\n",
        "print(\"englishDataFrame = \", englishDataFrame.shape)\n",
        "\n",
        "#--------------------------------------------------------------------------------------------------------------\n",
        "print(\"feedbackDataFrame = \", feedbackDataFrame.shape)\n",
        "\n",
        "feedbackDataFrame = feedbackDataFrame[ feedbackDataFrame['instruction_length'] <= 800 ]\n",
        "feedbackDataFrame = feedbackDataFrame[ feedbackDataFrame['feedback_length'] <= 1200 ]\n",
        "feedbackDataFrame = feedbackDataFrame[ feedbackDataFrame['response_length'] <= 2000 ]\n",
        "\n",
        "feedbackDataFrame.drop_duplicates(['instruction'], inplace = True)\n",
        "feedbackDataFrame.drop_duplicates(['feedback'], inplace = True)\n",
        "feedbackDataFrame.drop_duplicates(['response'], inplace = True)\n",
        "\n",
        "print(\"feedbackDataFrame = \", feedbackDataFrame.shape)"
      ]
    },
    {
      "cell_type": "markdown",
      "source": [
        "---\n",
        "#Convert columns to its correct formate then extract the Date only with no time\n"
      ],
      "metadata": {
        "id": "Gn5hTz_QUQXq"
      }
    },
    {
      "cell_type": "code",
      "execution_count": null,
      "metadata": {
        "id": "edaoB11ivScx"
      },
      "outputs": [],
      "source": [
        "newsDataFrame['date_Stamp'] = newsDataFrame['date'].apply(lambda row: datetime.strptime(row, \"%Y-%m-%d %H:%M:%S\"))\n",
        "newsDataFrame['date_Stamp'] = newsDataFrame['date_Stamp'].apply(lambda row: row.replace(hour=0, minute=0, second=0))\n",
        "newsDataFrame.head()"
      ]
    },
    {
      "cell_type": "markdown",
      "source": [
        "---\n",
        "⛹\n",
        "# **Applying the Per-Topic Algorithm. The following steps are completely modular:**\n",
        "\n",
        "1.  Embedding documents using Transformers (Sentence Transformers)\n",
        "2.  Reducing embeddings dimensionality\n",
        "3.  Clustering reduced embeddings into topics\n",
        "4.  Tokenization of topics\n",
        "5.  Set Weights for the tokens\n",
        "6.  Represent topics with one or multiple representations"
      ],
      "metadata": {
        "id": "x1X3Re3OBfc4"
      }
    },
    {
      "cell_type": "code",
      "execution_count": null,
      "metadata": {
        "id": "kuzv_47X41As"
      },
      "outputs": [],
      "source": [
        "#=============================================================================================\n",
        "# 1- Embedding documents using Transformers (Sentence Transformers)\n",
        "from sentence_transformers import SentenceTransformer\n",
        "\n",
        "newsSentenceTransformer_ModelId = \"sentence-transformers/distiluse-base-multilingual-cased-v2\"  # \"sentence-transformers/LaBSE\"\n",
        "newsEmbeddingModel = SentenceTransformer(newsSentenceTransformer_ModelId, device= \"cuda:0\")\n",
        "newsEmbeddings = newsEmbeddingModel.encode(newsDataFrame['text'].values, show_progress_bar= True)\n",
        "\n",
        "englishSentenceTransformer_ModelId = \"sentence-transformers/all-MiniLM-L12-v2\"\n",
        "englishEmbeddingModel = SentenceTransformer(englishSentenceTransformer_ModelId, device= \"cuda:0\")\n",
        "englishEmbeddings = englishEmbeddingModel.encode(englishDataFrame['text'].values, show_progress_bar= True)\n",
        "\n",
        "# feedbackInstructionEmbeddings = embeddingModel.encode(feedbackDataFrame['instruction'].values, show_progress_bar= True)\n",
        "# feedbackFeedbackEmbeddings = embeddingModel.encode(feedbackDataFrame['feedback'].values, show_progress_bar= True)\n",
        "# feedbackResponseEmbeddings = embeddingModel.encode(feedbackDataFrame['response'].values, show_progress_bar= True)\n",
        "\n",
        "print(newsEmbeddings.shape)\n",
        "print(englishEmbeddings.shape)\n",
        "# print(feedbackInstructionEmbeddings.shape)\n",
        "# print(feedbackFeedbackEmbeddings.shape)\n",
        "# print(feedbackResponseEmbeddings.shape)"
      ]
    },
    {
      "cell_type": "code",
      "source": [
        "#=============================================================================================\n",
        "#2- Reducing embeddings dimensionality\n",
        "from umap import UMAP\n",
        "newsDimensionalityReductionModel = UMAP(n_neighbors = 15, n_components = 15,\n",
        "                  min_dist = 0.0, metric = 'cosine',\n",
        "                  random_state = 611)\n",
        "\n",
        "englishDimensionalityReductionModel = UMAP(n_neighbors = 15, n_components = 15,\n",
        "                  min_dist = 0.0, metric = 'cosine',\n",
        "                  random_state = 611)"
      ],
      "metadata": {
        "id": "5Nxhn3Qs-Wwy"
      },
      "execution_count": null,
      "outputs": []
    },
    {
      "cell_type": "code",
      "source": [
        "#=============================================================================================\n",
        "# 3- Clustering reduced embeddings into topics\n",
        "from hdbscan import HDBSCAN\n",
        "\n",
        "# A higher min_cluster_size will generate fewer topics\n",
        "# A lower min_cluster_size will generate more topics.\n",
        "newsClustringModel = HDBSCAN(min_cluster_size = 50,\n",
        "                        metric = 'euclidean',\n",
        "                        cluster_selection_method = 'eom',\n",
        "                        prediction_data = True)\n",
        "\n",
        "englishClustringModel = HDBSCAN(min_cluster_size = 50,\n",
        "                        metric = 'euclidean',\n",
        "                        cluster_selection_method = 'eom',\n",
        "                        prediction_data = True)"
      ],
      "metadata": {
        "id": "W2JEG0ke-gmv"
      },
      "execution_count": null,
      "outputs": []
    },
    {
      "cell_type": "code",
      "source": [
        "#=============================================================================================\n",
        "# 4- Tokenization of topics (Vectorizer)\n",
        "from sklearn.feature_extraction.text import CountVectorizer\n",
        "import arabicstopwords.arabicstopwords as MyArabicStopWords\n",
        "\n",
        "nltk.download('stopwords')\n",
        "from nltk.corpus import stopwords\n",
        "from nltk.tokenize import word_tokenize\n",
        "# nltk.download('punkt')\n",
        "# nltk.download('wordnet')\n",
        "# nltk.download('omw-1.4')\n",
        "\n",
        "# Load Arabic stop words\n",
        "arabicWordsIgnoreList = MyArabicStopWords.stopwords_list()\n",
        "\n",
        "# Load English stop words\n",
        "englishWordsIgnoreList = list(stopwords.words('english'))\n",
        "\n",
        "newsVectorizerModel = CountVectorizer(min_df = 3,\n",
        "                                   stop_words = arabicWordsIgnoreList,\n",
        "                                   analyzer = 'word',\n",
        "                                   max_df = 0.5,\n",
        "                                   ngram_range = (1, 3)\n",
        "                                   )\n",
        "\n",
        "englishVectorizerModel = CountVectorizer(min_df = 3,\n",
        "                                   stop_words = englishWordsIgnoreList,\n",
        "                                   analyzer = 'word',\n",
        "                                   max_df = 0.5,\n",
        "                                   ngram_range = (1, 3)\n",
        "                                   )"
      ],
      "metadata": {
        "id": "ktS9rsHl-iLK"
      },
      "execution_count": null,
      "outputs": []
    },
    {
      "cell_type": "code",
      "source": [
        "#============================================================================================\n",
        "#Topic Representer\n",
        "from bertopic.representation import KeyBERTInspired\n",
        "\n",
        "newsKeyPerToicModel = KeyBERTInspired()\n",
        "newsTopicRepresenter_model = {\n",
        "    \"KeyBERT\": newsKeyPerToicModel\n",
        "}\n",
        "\n",
        "englishKeyPerToicModel = KeyBERTInspired()\n",
        "englishTopicRepresenter_model = {\n",
        "    \"KeyBERT\": englishKeyPerToicModel\n",
        "}"
      ],
      "metadata": {
        "id": "SeOMgWgtYfc7"
      },
      "execution_count": null,
      "outputs": []
    },
    {
      "cell_type": "markdown",
      "source": [
        "\n",
        "\n",
        "---\n",
        "# Now, let's run the model to wire all together\n"
      ],
      "metadata": {
        "id": "_bQXtkVlB38W"
      }
    },
    {
      "cell_type": "code",
      "source": [
        "#============================================================================================\n",
        "#Let's Go\n",
        "from bertopic import BERTopic\n",
        "\n",
        "# Initializing the news BERTopic Model\n",
        "newsTopicsModel = BERTopic(\n",
        "    # Pipeline models\n",
        "    embedding_model = newsEmbeddingModel,\n",
        "    umap_model = newsDimensionalityReductionModel,\n",
        "    hdbscan_model = newsClustringModel,\n",
        "    vectorizer_model = newsVectorizerModel,\n",
        "    representation_model = newsTopicRepresenter_model,\n",
        "\n",
        "    # Hyperparameters\n",
        "    top_n_words = 10,\n",
        "    verbose = True)\n",
        "\n",
        "newsTopics, newsTopicsPropabilities = newsTopicsModel.fit_transform(\n",
        "    newsDataFrame['text'].values,\n",
        "    newsEmbeddings)\n",
        "\n",
        "newsDataFrame['topic'] = newsTopics\n",
        "newsDataFrame['Probability'] = newsTopicsPropabilities"
      ],
      "metadata": {
        "id": "u5SOcmCjY4LM"
      },
      "execution_count": null,
      "outputs": []
    },
    {
      "cell_type": "code",
      "source": [
        "from bertopic import BERTopic\n",
        "\n",
        "  # Initializing the news BERTopic Model\n",
        "englishTopicsModel = BERTopic(\n",
        "    # Pipeline models\n",
        "    embedding_model = englishEmbeddingModel,\n",
        "    umap_model = englishDimensionalityReductionModel,\n",
        "    hdbscan_model = englishClustringModel,\n",
        "    vectorizer_model = englishVectorizerModel,\n",
        "    representation_model = englishTopicRepresenter_model,\n",
        "\n",
        "    # Hyperparameters\n",
        "    top_n_words = 10,\n",
        "    verbose = True)\n",
        "\n",
        "englishTopics, englishTopicsPropabilities = englishTopicsModel.fit_transform(\n",
        "    englishDataFrame['text'].values,\n",
        "    englishEmbeddings)\n",
        "\n",
        "englishDataFrame['topic'] = englishTopics\n",
        "englishDataFrame['Probability'] = englishTopicsPropabilities"
      ],
      "metadata": {
        "id": "xCSe-j789TUi"
      },
      "execution_count": null,
      "outputs": []
    },
    {
      "cell_type": "code",
      "source": [
        "newsTopicsModel.get_topic_info()"
      ],
      "metadata": {
        "id": "jpNe0Lo9eKF4"
      },
      "execution_count": null,
      "outputs": []
    },
    {
      "cell_type": "code",
      "source": [
        "englishTopicsModel.get_topic_info()"
      ],
      "metadata": {
        "id": "Sosboqr4eUw2"
      },
      "execution_count": null,
      "outputs": []
    },
    {
      "cell_type": "code",
      "source": [
        "englishTopicsModel.get_topic(7)"
      ],
      "metadata": {
        "id": "QMpPBB_ldOht"
      },
      "execution_count": null,
      "outputs": []
    },
    {
      "cell_type": "code",
      "source": [
        "englishDataFrame[ englishDataFrame['topic'] == 7 ].head(10)"
      ],
      "metadata": {
        "id": "ECgvdEZdowT6"
      },
      "execution_count": null,
      "outputs": []
    },
    {
      "cell_type": "code",
      "source": [
        "newsTopicsModel.get_topic(3)"
      ],
      "metadata": {
        "id": "qFWk_l2VowXh"
      },
      "execution_count": null,
      "outputs": []
    },
    {
      "cell_type": "code",
      "source": [
        "newsDataFrame[ newsDataFrame['topic'] == 3 ].head(10)"
      ],
      "metadata": {
        "id": "oYCKTkffowb_"
      },
      "execution_count": null,
      "outputs": []
    },
    {
      "cell_type": "code",
      "source": [
        "newsTopicsModel.visualize_topics()"
      ],
      "metadata": {
        "id": "wPAe0cZtfzmN"
      },
      "execution_count": null,
      "outputs": []
    },
    {
      "cell_type": "code",
      "source": [
        "englishTopicsModel.visualize_topics()"
      ],
      "metadata": {
        "id": "jjzHHxfvf0Na"
      },
      "execution_count": null,
      "outputs": []
    },
    {
      "cell_type": "code",
      "source": [
        "englishTopicsModel.visualize_heatmap()"
      ],
      "metadata": {
        "id": "VnO7i1c8gDwz"
      },
      "execution_count": null,
      "outputs": []
    },
    {
      "cell_type": "code",
      "source": [
        "newsTopicsModel.visualize_heatmap()"
      ],
      "metadata": {
        "id": "I6IrHRsLgEC8"
      },
      "execution_count": null,
      "outputs": []
    },
    {
      "cell_type": "code",
      "source": [
        "newsTopicsPerClass = newsTopicsModel.topics_per_class(\n",
        "    newsDataFrame['text'].values,\n",
        "    classes=newsDataFrame['source'].values)\n",
        "\n",
        "newsTopicsModel.visualize_topics_per_class(newsTopicsPerClass, top_n_topics = 15, normalize_frequency = True)"
      ],
      "metadata": {
        "id": "oYfvthX_6Xc8"
      },
      "execution_count": null,
      "outputs": []
    },
    {
      "cell_type": "code",
      "source": [
        "newsTopicsOverTime = newsTopicsModel.topics_over_time(\n",
        "    newsDataFrame['text'].values,\n",
        "    newsDataFrame['date'].values, nr_bins = 10)\n",
        "\n",
        "newsTopicsModel.visualize_topics_over_time(\n",
        "    newsTopicsOverTime,\n",
        "    topics = [1, 2, 3, 4, 5, 6, 7, 8, 9, 10, 11, 12, 13])"
      ],
      "metadata": {
        "id": "XM3H2Si1t4_P"
      },
      "execution_count": null,
      "outputs": []
    },
    {
      "cell_type": "code",
      "source": [
        "newsTopicsHierarchy = newsTopicsModel.hierarchical_topics(\n",
        "    newsDataFrame['text'].values)\n",
        "\n",
        "newsTopicsModel.visualize_hierarchy(\n",
        "    hierarchical_topics = newsTopicsHierarchy)"
      ],
      "metadata": {
        "id": "KZa-C4gN3m3M"
      },
      "execution_count": null,
      "outputs": []
    },
    {
      "cell_type": "code",
      "source": [
        "englishTopicsPerClass = englishTopicsModel.topics_per_class(\n",
        "    englishDataFrame['text'].values,\n",
        "    classes = englishDataFrame['source'].values\n",
        ")\n",
        "\n",
        "englishTopicsModel.visualize_topics_per_class(englishTopicsPerClass, top_n_topics = 15, normalize_frequency = True)"
      ],
      "metadata": {
        "id": "jNAiLFG2gPRW"
      },
      "execution_count": null,
      "outputs": []
    },
    {
      "cell_type": "code",
      "source": [
        "englishTopicsHierarchy = englishTopicsModel.hierarchical_topics(\n",
        "    englishDataFrame['text'].values)\n",
        "\n",
        "englishTopicsModel.visualize_hierarchy(\n",
        "    hierarchical_topics = englishTopicsHierarchy)"
      ],
      "metadata": {
        "id": "J6HeYuyokhZQ"
      },
      "execution_count": null,
      "outputs": []
    },
    {
      "cell_type": "markdown",
      "source": [
        "---\n",
        "#Review the resutls and visualization then we can enhancements by merging topics"
      ],
      "metadata": {
        "id": "SFtlLfn4_Ca3"
      }
    },
    {
      "cell_type": "code",
      "source": [
        "englishTopicsToMerge = [\n",
        "    [25, 24],\n",
        "    [43, 3, 12, 44]\n",
        "]\n",
        "\n",
        "englishTopicsModel.merge_topics(\n",
        "    englishDataFrame['text'].values,\n",
        "    englishTopicsToMerge\n",
        ")"
      ],
      "metadata": {
        "id": "ZVDhohGd_UpV"
      },
      "execution_count": null,
      "outputs": []
    },
    {
      "cell_type": "code",
      "source": [
        "englishTopicsHierarchy = englishTopicsModel.hierarchical_topics(\n",
        "    englishDataFrame['text'].values)\n",
        "\n",
        "englishTopicsModel.visualize_hierarchy(\n",
        "    hierarchical_topics = englishTopicsHierarchy)"
      ],
      "metadata": {
        "id": "v6q87MoL_5gY"
      },
      "execution_count": null,
      "outputs": []
    },
    {
      "cell_type": "markdown",
      "source": [
        "\n",
        "---\n",
        "# Review the resutls and visualization then we can enhancements by Topics Filtering\n",
        "\n"
      ],
      "metadata": {
        "id": "jgHcWapwJl-4"
      }
    },
    {
      "cell_type": "code",
      "source": [
        "englishDataFrame = englishDataFrame[ ~englishDataFrame['topic'].isin([-1]) ]\n",
        "englishDataFrame.head()"
      ],
      "metadata": {
        "id": "asX7ZgxLJzws"
      },
      "execution_count": null,
      "outputs": []
    },
    {
      "cell_type": "code",
      "source": [
        "newsDataFrame = newsDataFrame[ ~newsDataFrame['topic'].isin([-1]) ]\n",
        "newsDataFrame.head()"
      ],
      "metadata": {
        "id": "EDHmHdxfJ5ms"
      },
      "execution_count": null,
      "outputs": []
    },
    {
      "cell_type": "markdown",
      "source": [
        "---\n",
        "#Now, if we decide this is enough for the production environment, we can move on to the inference steps to check a stream of live data.\n",
        "\n"
      ],
      "metadata": {
        "id": "DPuThsJqKZwo"
      }
    },
    {
      "cell_type": "code",
      "source": [
        "live_newsStory = \"\"\"اتهمت منظمة \"هيومن رايتس ووتش\" اسرائيل، اليوم (الاثنين)، باستخدام \"القوة غير المبررة\" لاعتقال اطفال فلسطينيين تصل اعمار بعضهم الى 11 عاما، بالاضافة الى استخدام التهديد لاجبارهم بالتوقيع على اعترافات.\n",
        "وقالت المنظمة ان السلطات الاسرائيلية فشلت في اخطار اهالي الاطفال عن اعتقالهم او اماكن احتجازهم، مستندة الى شهادات عدة اطفال احتجزوا العام الماضي في القدس الشرقية والضفة الغربية المحتلتين، في وقت ساد فيه توتر كبير.\n",
        "وحثت سارة ليا ويتسن مديرة قسم الشرق الأوسط وشمال أفريقيا الولايات المتحدة على الضغط على حليفتها اسرائيل لانهاء ما وصفته بـ\"الممارسات المسيئة\".\n",
        "ويأتي التقرير في وقت يزور فيه وزير الدفاع الاميركي اشتون كارتر اسرائيل.\n",
        "وبحسب التقرير، فان \"قوات الامن الاسرائيلية استخدمت القوة غير المبررة لاعتقال أطفال فلسطينيين\". وتحدث عن تفاصيل تتعلق \"بعمليات اعتقال مسيئة\" لستة اطفال.\n",
        "واشار التقرير الى ان قوات الامن الاسرائيلية \"قامت بخنق الاطفال والقاء القنابل الصاعقة عليهم وضربهم اثناء الاحتجاز وتهديدهم واستجوابهم في غياب آبائهم او محاميهم، كما اخفقت في اخطار آبائهم بمكانهم\".\"\"\"\n",
        "\n",
        "live_newsStoryTopic, live_newsStoryProbability =  newsTopicsModel.transform([live_newsStory])"
      ],
      "metadata": {
        "id": "WHcUvD78K9oB"
      },
      "execution_count": null,
      "outputs": []
    },
    {
      "cell_type": "code",
      "source": [
        "live_newsStoryTopic, live_newsStoryProbability"
      ],
      "metadata": {
        "colab": {
          "base_uri": "https://localhost:8080/"
        },
        "id": "pvoCIEqnLWl8",
        "outputId": "4ec96c3f-5691-4178-da17-6755b12402e5"
      },
      "execution_count": null,
      "outputs": [
        {
          "output_type": "execute_result",
          "data": {
            "text/plain": [
              "([11], array([0.86207827]))"
            ]
          },
          "metadata": {},
          "execution_count": 61
        }
      ]
    },
    {
      "cell_type": "code",
      "source": [
        "newsTopicsModel.get_topic_info(11)"
      ],
      "metadata": {
        "colab": {
          "base_uri": "https://localhost:8080/",
          "height": 81
        },
        "id": "CfKWGmiQrOQ2",
        "outputId": "753d66c1-4fce-41b0-beff-40218e827064"
      },
      "execution_count": null,
      "outputs": [
        {
          "output_type": "execute_result",
          "data": {
            "text/plain": [
              "   Topic  Count                                          Name  \\\n",
              "0     11    313  11_الاحتلال_الفلسطينية_الفلسطيني_الإسرائيلية   \n",
              "\n",
              "                                      Representation  \\\n",
              "0  [الاحتلال, الفلسطينية, الفلسطيني, الإسرائيلية,...   \n",
              "\n",
              "                                             KeyBERT  \\\n",
              "0  [الطفل الفلسطيني, رضيع فلسطيني, الفلسطينيين, ا...   \n",
              "\n",
              "                                 Representative_Docs  \n",
              "0  [قال مسؤولو أمن إسرائيليون إن من يشتبه بأنهم م...  "
            ],
            "text/html": [
              "\n",
              "  <div id=\"df-9277360e-20ab-409d-a2dd-a09ed7541c0c\" class=\"colab-df-container\">\n",
              "    <div>\n",
              "<style scoped>\n",
              "    .dataframe tbody tr th:only-of-type {\n",
              "        vertical-align: middle;\n",
              "    }\n",
              "\n",
              "    .dataframe tbody tr th {\n",
              "        vertical-align: top;\n",
              "    }\n",
              "\n",
              "    .dataframe thead th {\n",
              "        text-align: right;\n",
              "    }\n",
              "</style>\n",
              "<table border=\"1\" class=\"dataframe\">\n",
              "  <thead>\n",
              "    <tr style=\"text-align: right;\">\n",
              "      <th></th>\n",
              "      <th>Topic</th>\n",
              "      <th>Count</th>\n",
              "      <th>Name</th>\n",
              "      <th>Representation</th>\n",
              "      <th>KeyBERT</th>\n",
              "      <th>Representative_Docs</th>\n",
              "    </tr>\n",
              "  </thead>\n",
              "  <tbody>\n",
              "    <tr>\n",
              "      <th>0</th>\n",
              "      <td>11</td>\n",
              "      <td>313</td>\n",
              "      <td>11_الاحتلال_الفلسطينية_الفلسطيني_الإسرائيلية</td>\n",
              "      <td>[الاحتلال, الفلسطينية, الفلسطيني, الإسرائيلية,...</td>\n",
              "      <td>[الطفل الفلسطيني, رضيع فلسطيني, الفلسطينيين, ا...</td>\n",
              "      <td>[قال مسؤولو أمن إسرائيليون إن من يشتبه بأنهم م...</td>\n",
              "    </tr>\n",
              "  </tbody>\n",
              "</table>\n",
              "</div>\n",
              "    <div class=\"colab-df-buttons\">\n",
              "\n",
              "  <div class=\"colab-df-container\">\n",
              "    <button class=\"colab-df-convert\" onclick=\"convertToInteractive('df-9277360e-20ab-409d-a2dd-a09ed7541c0c')\"\n",
              "            title=\"Convert this dataframe to an interactive table.\"\n",
              "            style=\"display:none;\">\n",
              "\n",
              "  <svg xmlns=\"http://www.w3.org/2000/svg\" height=\"24px\" viewBox=\"0 -960 960 960\">\n",
              "    <path d=\"M120-120v-720h720v720H120Zm60-500h600v-160H180v160Zm220 220h160v-160H400v160Zm0 220h160v-160H400v160ZM180-400h160v-160H180v160Zm440 0h160v-160H620v160ZM180-180h160v-160H180v160Zm440 0h160v-160H620v160Z\"/>\n",
              "  </svg>\n",
              "    </button>\n",
              "\n",
              "  <style>\n",
              "    .colab-df-container {\n",
              "      display:flex;\n",
              "      gap: 12px;\n",
              "    }\n",
              "\n",
              "    .colab-df-convert {\n",
              "      background-color: #E8F0FE;\n",
              "      border: none;\n",
              "      border-radius: 50%;\n",
              "      cursor: pointer;\n",
              "      display: none;\n",
              "      fill: #1967D2;\n",
              "      height: 32px;\n",
              "      padding: 0 0 0 0;\n",
              "      width: 32px;\n",
              "    }\n",
              "\n",
              "    .colab-df-convert:hover {\n",
              "      background-color: #E2EBFA;\n",
              "      box-shadow: 0px 1px 2px rgba(60, 64, 67, 0.3), 0px 1px 3px 1px rgba(60, 64, 67, 0.15);\n",
              "      fill: #174EA6;\n",
              "    }\n",
              "\n",
              "    .colab-df-buttons div {\n",
              "      margin-bottom: 4px;\n",
              "    }\n",
              "\n",
              "    [theme=dark] .colab-df-convert {\n",
              "      background-color: #3B4455;\n",
              "      fill: #D2E3FC;\n",
              "    }\n",
              "\n",
              "    [theme=dark] .colab-df-convert:hover {\n",
              "      background-color: #434B5C;\n",
              "      box-shadow: 0px 1px 3px 1px rgba(0, 0, 0, 0.15);\n",
              "      filter: drop-shadow(0px 1px 2px rgba(0, 0, 0, 0.3));\n",
              "      fill: #FFFFFF;\n",
              "    }\n",
              "  </style>\n",
              "\n",
              "    <script>\n",
              "      const buttonEl =\n",
              "        document.querySelector('#df-9277360e-20ab-409d-a2dd-a09ed7541c0c button.colab-df-convert');\n",
              "      buttonEl.style.display =\n",
              "        google.colab.kernel.accessAllowed ? 'block' : 'none';\n",
              "\n",
              "      async function convertToInteractive(key) {\n",
              "        const element = document.querySelector('#df-9277360e-20ab-409d-a2dd-a09ed7541c0c');\n",
              "        const dataTable =\n",
              "          await google.colab.kernel.invokeFunction('convertToInteractive',\n",
              "                                                    [key], {});\n",
              "        if (!dataTable) return;\n",
              "\n",
              "        const docLinkHtml = 'Like what you see? Visit the ' +\n",
              "          '<a target=\"_blank\" href=https://colab.research.google.com/notebooks/data_table.ipynb>data table notebook</a>'\n",
              "          + ' to learn more about interactive tables.';\n",
              "        element.innerHTML = '';\n",
              "        dataTable['output_type'] = 'display_data';\n",
              "        await google.colab.output.renderOutput(dataTable, element);\n",
              "        const docLink = document.createElement('div');\n",
              "        docLink.innerHTML = docLinkHtml;\n",
              "        element.appendChild(docLink);\n",
              "      }\n",
              "    </script>\n",
              "  </div>\n",
              "\n",
              "\n",
              "    </div>\n",
              "  </div>\n"
            ]
          },
          "metadata": {},
          "execution_count": 68
        }
      ]
    },
    {
      "cell_type": "code",
      "source": [
        "newsTopicsModel.get_topic(live_newsStoryTopic[0])"
      ],
      "metadata": {
        "colab": {
          "base_uri": "https://localhost:8080/"
        },
        "id": "BgxUtVsxLw2W",
        "outputId": "df11cbe6-ccdf-4e1f-cd28-9b1de478cf49"
      },
      "execution_count": null,
      "outputs": [
        {
          "output_type": "execute_result",
          "data": {
            "text/plain": [
              "[('الاحتلال', 0.03317253631508505),\n",
              " ('الفلسطينية', 0.031008158833448807),\n",
              " ('الفلسطيني', 0.030844612447997372),\n",
              " ('الإسرائيلية', 0.02829672489649867),\n",
              " ('الإسرائيلي', 0.026260266970824578),\n",
              " ('إسرائيل', 0.025194636375340175),\n",
              " ('الفلسطينيين', 0.02272875953910997),\n",
              " ('المستوطنين', 0.022203965228467227),\n",
              " ('القدس', 0.02177069814949513),\n",
              " ('الضفة', 0.02086482368739133)]"
            ]
          },
          "metadata": {},
          "execution_count": 69
        }
      ]
    },
    {
      "cell_type": "code",
      "source": [
        "live_englishStory = \"Love is the emblem of eternity; it confounds all notion of time; effaces all memory of a beginning, all fear of an end.\"\n",
        "\n",
        "live_englishStoryTopic, live_englishStoryProbability =  englishTopicsModel.transform(live_englishStory)"
      ],
      "metadata": {
        "colab": {
          "base_uri": "https://localhost:8080/",
          "height": 118,
          "referenced_widgets": [
            "00a21a32315c48719e39365ebaf97a68",
            "cbd35ab4de674b62b9b36b3ad3084d6e",
            "d241b891186e456f8a3e743a068b78af",
            "34fb97d588d34515a2f798d826e2f1f7",
            "b08dd16dcfd342438f926dbf826e7c6b",
            "230771bde1944f689ce81c52a6bfce33",
            "192da321e156478a86b15ebf76cf7d99",
            "5d4d943d7a48441e90a9bc5e89cc7bf2",
            "3a609a1c116b420bbdc0edcb1d15fd43",
            "56631ad4b4bc4e879c26ff7e1ba95953",
            "b4249e5e214849c485bb0a9af14d4c2a"
          ]
        },
        "outputId": "f466d445-efda-4cd4-ce00-2586cbe75f06",
        "id": "hYXJmJgxMH9s"
      },
      "execution_count": null,
      "outputs": [
        {
          "output_type": "display_data",
          "data": {
            "text/plain": [
              "Batches:   0%|          | 0/1 [00:00<?, ?it/s]"
            ],
            "application/vnd.jupyter.widget-view+json": {
              "version_major": 2,
              "version_minor": 0,
              "model_id": "00a21a32315c48719e39365ebaf97a68"
            }
          },
          "metadata": {}
        },
        {
          "output_type": "stream",
          "name": "stderr",
          "text": [
            "2024-02-05 05:25:15,984 - BERTopic - Dimensionality - Reducing dimensionality of input embeddings.\n",
            "2024-02-05 05:25:20,167 - BERTopic - Dimensionality - Completed ✓\n",
            "2024-02-05 05:25:20,169 - BERTopic - Clustering - Approximating new points with `hdbscan_model`\n",
            "2024-02-05 05:25:20,173 - BERTopic - Cluster - Completed ✓\n"
          ]
        }
      ]
    },
    {
      "cell_type": "code",
      "source": [
        "live_englishStoryTopic, live_englishStoryProbability"
      ],
      "metadata": {
        "colab": {
          "base_uri": "https://localhost:8080/"
        },
        "id": "Bw4tMfP8MfWq",
        "outputId": "9e937f88-43c4-49f3-ae84-d7f02499ea6a"
      },
      "execution_count": null,
      "outputs": [
        {
          "output_type": "execute_result",
          "data": {
            "text/plain": [
              "([13], array([0.56068123]))"
            ]
          },
          "metadata": {},
          "execution_count": 71
        }
      ]
    },
    {
      "cell_type": "code",
      "source": [
        "englishTopicsModel.get_topic_info(13)"
      ],
      "metadata": {
        "colab": {
          "base_uri": "https://localhost:8080/",
          "height": 81
        },
        "id": "gWLIJ6p9uzvu",
        "outputId": "0ee27a68-91b7-416f-cc09-a231a3d66574"
      },
      "execution_count": null,
      "outputs": [
        {
          "output_type": "execute_result",
          "data": {
            "text/plain": [
              "   Topic  Count                                    Name  \\\n",
              "0     13    392  13_love love_loved_romantic_love never   \n",
              "\n",
              "                                      Representation  \\\n",
              "0  [love love, loved, romantic, love never, lovin...   \n",
              "\n",
              "                                             KeyBERT  \\\n",
              "0  [love love, love loving, love loved, love some...   \n",
              "\n",
              "                                 Representative_Docs  \n",
              "0  [love is not love that alters when it alterati...  "
            ],
            "text/html": [
              "\n",
              "  <div id=\"df-a6c01fca-a664-421a-b78f-24c070e40d3f\" class=\"colab-df-container\">\n",
              "    <div>\n",
              "<style scoped>\n",
              "    .dataframe tbody tr th:only-of-type {\n",
              "        vertical-align: middle;\n",
              "    }\n",
              "\n",
              "    .dataframe tbody tr th {\n",
              "        vertical-align: top;\n",
              "    }\n",
              "\n",
              "    .dataframe thead th {\n",
              "        text-align: right;\n",
              "    }\n",
              "</style>\n",
              "<table border=\"1\" class=\"dataframe\">\n",
              "  <thead>\n",
              "    <tr style=\"text-align: right;\">\n",
              "      <th></th>\n",
              "      <th>Topic</th>\n",
              "      <th>Count</th>\n",
              "      <th>Name</th>\n",
              "      <th>Representation</th>\n",
              "      <th>KeyBERT</th>\n",
              "      <th>Representative_Docs</th>\n",
              "    </tr>\n",
              "  </thead>\n",
              "  <tbody>\n",
              "    <tr>\n",
              "      <th>0</th>\n",
              "      <td>13</td>\n",
              "      <td>392</td>\n",
              "      <td>13_love love_loved_romantic_love never</td>\n",
              "      <td>[love love, loved, romantic, love never, lovin...</td>\n",
              "      <td>[love love, love loving, love loved, love some...</td>\n",
              "      <td>[love is not love that alters when it alterati...</td>\n",
              "    </tr>\n",
              "  </tbody>\n",
              "</table>\n",
              "</div>\n",
              "    <div class=\"colab-df-buttons\">\n",
              "\n",
              "  <div class=\"colab-df-container\">\n",
              "    <button class=\"colab-df-convert\" onclick=\"convertToInteractive('df-a6c01fca-a664-421a-b78f-24c070e40d3f')\"\n",
              "            title=\"Convert this dataframe to an interactive table.\"\n",
              "            style=\"display:none;\">\n",
              "\n",
              "  <svg xmlns=\"http://www.w3.org/2000/svg\" height=\"24px\" viewBox=\"0 -960 960 960\">\n",
              "    <path d=\"M120-120v-720h720v720H120Zm60-500h600v-160H180v160Zm220 220h160v-160H400v160Zm0 220h160v-160H400v160ZM180-400h160v-160H180v160Zm440 0h160v-160H620v160ZM180-180h160v-160H180v160Zm440 0h160v-160H620v160Z\"/>\n",
              "  </svg>\n",
              "    </button>\n",
              "\n",
              "  <style>\n",
              "    .colab-df-container {\n",
              "      display:flex;\n",
              "      gap: 12px;\n",
              "    }\n",
              "\n",
              "    .colab-df-convert {\n",
              "      background-color: #E8F0FE;\n",
              "      border: none;\n",
              "      border-radius: 50%;\n",
              "      cursor: pointer;\n",
              "      display: none;\n",
              "      fill: #1967D2;\n",
              "      height: 32px;\n",
              "      padding: 0 0 0 0;\n",
              "      width: 32px;\n",
              "    }\n",
              "\n",
              "    .colab-df-convert:hover {\n",
              "      background-color: #E2EBFA;\n",
              "      box-shadow: 0px 1px 2px rgba(60, 64, 67, 0.3), 0px 1px 3px 1px rgba(60, 64, 67, 0.15);\n",
              "      fill: #174EA6;\n",
              "    }\n",
              "\n",
              "    .colab-df-buttons div {\n",
              "      margin-bottom: 4px;\n",
              "    }\n",
              "\n",
              "    [theme=dark] .colab-df-convert {\n",
              "      background-color: #3B4455;\n",
              "      fill: #D2E3FC;\n",
              "    }\n",
              "\n",
              "    [theme=dark] .colab-df-convert:hover {\n",
              "      background-color: #434B5C;\n",
              "      box-shadow: 0px 1px 3px 1px rgba(0, 0, 0, 0.15);\n",
              "      filter: drop-shadow(0px 1px 2px rgba(0, 0, 0, 0.3));\n",
              "      fill: #FFFFFF;\n",
              "    }\n",
              "  </style>\n",
              "\n",
              "    <script>\n",
              "      const buttonEl =\n",
              "        document.querySelector('#df-a6c01fca-a664-421a-b78f-24c070e40d3f button.colab-df-convert');\n",
              "      buttonEl.style.display =\n",
              "        google.colab.kernel.accessAllowed ? 'block' : 'none';\n",
              "\n",
              "      async function convertToInteractive(key) {\n",
              "        const element = document.querySelector('#df-a6c01fca-a664-421a-b78f-24c070e40d3f');\n",
              "        const dataTable =\n",
              "          await google.colab.kernel.invokeFunction('convertToInteractive',\n",
              "                                                    [key], {});\n",
              "        if (!dataTable) return;\n",
              "\n",
              "        const docLinkHtml = 'Like what you see? Visit the ' +\n",
              "          '<a target=\"_blank\" href=https://colab.research.google.com/notebooks/data_table.ipynb>data table notebook</a>'\n",
              "          + ' to learn more about interactive tables.';\n",
              "        element.innerHTML = '';\n",
              "        dataTable['output_type'] = 'display_data';\n",
              "        await google.colab.output.renderOutput(dataTable, element);\n",
              "        const docLink = document.createElement('div');\n",
              "        docLink.innerHTML = docLinkHtml;\n",
              "        element.appendChild(docLink);\n",
              "      }\n",
              "    </script>\n",
              "  </div>\n",
              "\n",
              "\n",
              "    </div>\n",
              "  </div>\n"
            ]
          },
          "metadata": {},
          "execution_count": 73
        }
      ]
    },
    {
      "cell_type": "code",
      "source": [
        "englishTopicsModel.get_topic(live_englishStoryTopic[0])"
      ],
      "metadata": {
        "colab": {
          "base_uri": "https://localhost:8080/"
        },
        "id": "xMXXjCrpNv7e",
        "outputId": "ee342b45-e15b-45ff-b0d9-482fea6b6db8"
      },
      "execution_count": null,
      "outputs": [
        {
          "output_type": "execute_result",
          "data": {
            "text/plain": [
              "[('love love', 0.060299994557520095),\n",
              " ('loved', 0.04096729819270148),\n",
              " ('romantic', 0.026763697914217604),\n",
              " ('love never', 0.026572415975426335),\n",
              " ('loving', 0.025080890235693577),\n",
              " ('romance', 0.023203469497706967),\n",
              " ('true love', 0.018823841867006006),\n",
              " ('love always', 0.018518690711762435),\n",
              " ('love one', 0.017298690947559946),\n",
              " ('love life', 0.015873163467224945)]"
            ]
          },
          "metadata": {},
          "execution_count": 72
        }
      ]
    },
    {
      "cell_type": "markdown",
      "source": [
        "---\n",
        "\n",
        "## Save and Reload\n",
        "\n",
        "---\n",
        "\n"
      ],
      "metadata": {
        "id": "fMRAvZ9vSjN4"
      }
    },
    {
      "cell_type": "code",
      "source": [
        "myModelId = \"sentence-transformers/distiluse-base-multilingual-cased-v2\"\n",
        "newsTopicsModel.save(\"/content/POC/newsTopicsModel\", serialization=\"safetensors\",\n",
        "                 save_ctfidf=True, save_embedding_model = myModelId)\n",
        "\n",
        "newsTopicsLoadedModel = BERTopic.load(\"/content/POC/newsTopicsModel\")"
      ],
      "metadata": {
        "id": "0sPQg9Aix9mp"
      },
      "execution_count": null,
      "outputs": []
    },
    {
      "cell_type": "code",
      "source": [
        "myModelId = \"sentence-transformers/distiluse-base-multilingual-cased-v2\"\n",
        "englishTopicsModel.save(\"/content/POC/englishTopicsModel\", serialization=\"safetensors\",\n",
        "                 save_ctfidf=True, save_embedding_model = myModelId)\n",
        "\n",
        "englishTopicsLoadedModel = BERTopic.load(\"/content/POC/englishTopicsModel\")"
      ],
      "metadata": {
        "id": "FuYh7e4mTG9Z"
      },
      "execution_count": null,
      "outputs": []
    }
  ],
  "metadata": {
    "colab": {
      "provenance": [],
      "gpuType": "T4",
      "authorship_tag": "ABX9TyO37CMPm//z0NMei2uTnl6c",
      "include_colab_link": true
    },
    "kernelspec": {
      "display_name": "Python 3",
      "name": "python3"
    },
    "language_info": {
      "name": "python"
    },
    "widgets": {
      "application/vnd.jupyter.widget-state+json": {
        "00a21a32315c48719e39365ebaf97a68": {
          "model_module": "@jupyter-widgets/controls",
          "model_name": "HBoxModel",
          "model_module_version": "1.5.0",
          "state": {
            "_dom_classes": [],
            "_model_module": "@jupyter-widgets/controls",
            "_model_module_version": "1.5.0",
            "_model_name": "HBoxModel",
            "_view_count": null,
            "_view_module": "@jupyter-widgets/controls",
            "_view_module_version": "1.5.0",
            "_view_name": "HBoxView",
            "box_style": "",
            "children": [
              "IPY_MODEL_cbd35ab4de674b62b9b36b3ad3084d6e",
              "IPY_MODEL_d241b891186e456f8a3e743a068b78af",
              "IPY_MODEL_34fb97d588d34515a2f798d826e2f1f7"
            ],
            "layout": "IPY_MODEL_b08dd16dcfd342438f926dbf826e7c6b"
          }
        },
        "cbd35ab4de674b62b9b36b3ad3084d6e": {
          "model_module": "@jupyter-widgets/controls",
          "model_name": "HTMLModel",
          "model_module_version": "1.5.0",
          "state": {
            "_dom_classes": [],
            "_model_module": "@jupyter-widgets/controls",
            "_model_module_version": "1.5.0",
            "_model_name": "HTMLModel",
            "_view_count": null,
            "_view_module": "@jupyter-widgets/controls",
            "_view_module_version": "1.5.0",
            "_view_name": "HTMLView",
            "description": "",
            "description_tooltip": null,
            "layout": "IPY_MODEL_230771bde1944f689ce81c52a6bfce33",
            "placeholder": "​",
            "style": "IPY_MODEL_192da321e156478a86b15ebf76cf7d99",
            "value": "Batches: 100%"
          }
        },
        "d241b891186e456f8a3e743a068b78af": {
          "model_module": "@jupyter-widgets/controls",
          "model_name": "FloatProgressModel",
          "model_module_version": "1.5.0",
          "state": {
            "_dom_classes": [],
            "_model_module": "@jupyter-widgets/controls",
            "_model_module_version": "1.5.0",
            "_model_name": "FloatProgressModel",
            "_view_count": null,
            "_view_module": "@jupyter-widgets/controls",
            "_view_module_version": "1.5.0",
            "_view_name": "ProgressView",
            "bar_style": "success",
            "description": "",
            "description_tooltip": null,
            "layout": "IPY_MODEL_5d4d943d7a48441e90a9bc5e89cc7bf2",
            "max": 1,
            "min": 0,
            "orientation": "horizontal",
            "style": "IPY_MODEL_3a609a1c116b420bbdc0edcb1d15fd43",
            "value": 1
          }
        },
        "34fb97d588d34515a2f798d826e2f1f7": {
          "model_module": "@jupyter-widgets/controls",
          "model_name": "HTMLModel",
          "model_module_version": "1.5.0",
          "state": {
            "_dom_classes": [],
            "_model_module": "@jupyter-widgets/controls",
            "_model_module_version": "1.5.0",
            "_model_name": "HTMLModel",
            "_view_count": null,
            "_view_module": "@jupyter-widgets/controls",
            "_view_module_version": "1.5.0",
            "_view_name": "HTMLView",
            "description": "",
            "description_tooltip": null,
            "layout": "IPY_MODEL_56631ad4b4bc4e879c26ff7e1ba95953",
            "placeholder": "​",
            "style": "IPY_MODEL_b4249e5e214849c485bb0a9af14d4c2a",
            "value": " 1/1 [00:00&lt;00:00, 21.35it/s]"
          }
        },
        "b08dd16dcfd342438f926dbf826e7c6b": {
          "model_module": "@jupyter-widgets/base",
          "model_name": "LayoutModel",
          "model_module_version": "1.2.0",
          "state": {
            "_model_module": "@jupyter-widgets/base",
            "_model_module_version": "1.2.0",
            "_model_name": "LayoutModel",
            "_view_count": null,
            "_view_module": "@jupyter-widgets/base",
            "_view_module_version": "1.2.0",
            "_view_name": "LayoutView",
            "align_content": null,
            "align_items": null,
            "align_self": null,
            "border": null,
            "bottom": null,
            "display": null,
            "flex": null,
            "flex_flow": null,
            "grid_area": null,
            "grid_auto_columns": null,
            "grid_auto_flow": null,
            "grid_auto_rows": null,
            "grid_column": null,
            "grid_gap": null,
            "grid_row": null,
            "grid_template_areas": null,
            "grid_template_columns": null,
            "grid_template_rows": null,
            "height": null,
            "justify_content": null,
            "justify_items": null,
            "left": null,
            "margin": null,
            "max_height": null,
            "max_width": null,
            "min_height": null,
            "min_width": null,
            "object_fit": null,
            "object_position": null,
            "order": null,
            "overflow": null,
            "overflow_x": null,
            "overflow_y": null,
            "padding": null,
            "right": null,
            "top": null,
            "visibility": null,
            "width": null
          }
        },
        "230771bde1944f689ce81c52a6bfce33": {
          "model_module": "@jupyter-widgets/base",
          "model_name": "LayoutModel",
          "model_module_version": "1.2.0",
          "state": {
            "_model_module": "@jupyter-widgets/base",
            "_model_module_version": "1.2.0",
            "_model_name": "LayoutModel",
            "_view_count": null,
            "_view_module": "@jupyter-widgets/base",
            "_view_module_version": "1.2.0",
            "_view_name": "LayoutView",
            "align_content": null,
            "align_items": null,
            "align_self": null,
            "border": null,
            "bottom": null,
            "display": null,
            "flex": null,
            "flex_flow": null,
            "grid_area": null,
            "grid_auto_columns": null,
            "grid_auto_flow": null,
            "grid_auto_rows": null,
            "grid_column": null,
            "grid_gap": null,
            "grid_row": null,
            "grid_template_areas": null,
            "grid_template_columns": null,
            "grid_template_rows": null,
            "height": null,
            "justify_content": null,
            "justify_items": null,
            "left": null,
            "margin": null,
            "max_height": null,
            "max_width": null,
            "min_height": null,
            "min_width": null,
            "object_fit": null,
            "object_position": null,
            "order": null,
            "overflow": null,
            "overflow_x": null,
            "overflow_y": null,
            "padding": null,
            "right": null,
            "top": null,
            "visibility": null,
            "width": null
          }
        },
        "192da321e156478a86b15ebf76cf7d99": {
          "model_module": "@jupyter-widgets/controls",
          "model_name": "DescriptionStyleModel",
          "model_module_version": "1.5.0",
          "state": {
            "_model_module": "@jupyter-widgets/controls",
            "_model_module_version": "1.5.0",
            "_model_name": "DescriptionStyleModel",
            "_view_count": null,
            "_view_module": "@jupyter-widgets/base",
            "_view_module_version": "1.2.0",
            "_view_name": "StyleView",
            "description_width": ""
          }
        },
        "5d4d943d7a48441e90a9bc5e89cc7bf2": {
          "model_module": "@jupyter-widgets/base",
          "model_name": "LayoutModel",
          "model_module_version": "1.2.0",
          "state": {
            "_model_module": "@jupyter-widgets/base",
            "_model_module_version": "1.2.0",
            "_model_name": "LayoutModel",
            "_view_count": null,
            "_view_module": "@jupyter-widgets/base",
            "_view_module_version": "1.2.0",
            "_view_name": "LayoutView",
            "align_content": null,
            "align_items": null,
            "align_self": null,
            "border": null,
            "bottom": null,
            "display": null,
            "flex": null,
            "flex_flow": null,
            "grid_area": null,
            "grid_auto_columns": null,
            "grid_auto_flow": null,
            "grid_auto_rows": null,
            "grid_column": null,
            "grid_gap": null,
            "grid_row": null,
            "grid_template_areas": null,
            "grid_template_columns": null,
            "grid_template_rows": null,
            "height": null,
            "justify_content": null,
            "justify_items": null,
            "left": null,
            "margin": null,
            "max_height": null,
            "max_width": null,
            "min_height": null,
            "min_width": null,
            "object_fit": null,
            "object_position": null,
            "order": null,
            "overflow": null,
            "overflow_x": null,
            "overflow_y": null,
            "padding": null,
            "right": null,
            "top": null,
            "visibility": null,
            "width": null
          }
        },
        "3a609a1c116b420bbdc0edcb1d15fd43": {
          "model_module": "@jupyter-widgets/controls",
          "model_name": "ProgressStyleModel",
          "model_module_version": "1.5.0",
          "state": {
            "_model_module": "@jupyter-widgets/controls",
            "_model_module_version": "1.5.0",
            "_model_name": "ProgressStyleModel",
            "_view_count": null,
            "_view_module": "@jupyter-widgets/base",
            "_view_module_version": "1.2.0",
            "_view_name": "StyleView",
            "bar_color": null,
            "description_width": ""
          }
        },
        "56631ad4b4bc4e879c26ff7e1ba95953": {
          "model_module": "@jupyter-widgets/base",
          "model_name": "LayoutModel",
          "model_module_version": "1.2.0",
          "state": {
            "_model_module": "@jupyter-widgets/base",
            "_model_module_version": "1.2.0",
            "_model_name": "LayoutModel",
            "_view_count": null,
            "_view_module": "@jupyter-widgets/base",
            "_view_module_version": "1.2.0",
            "_view_name": "LayoutView",
            "align_content": null,
            "align_items": null,
            "align_self": null,
            "border": null,
            "bottom": null,
            "display": null,
            "flex": null,
            "flex_flow": null,
            "grid_area": null,
            "grid_auto_columns": null,
            "grid_auto_flow": null,
            "grid_auto_rows": null,
            "grid_column": null,
            "grid_gap": null,
            "grid_row": null,
            "grid_template_areas": null,
            "grid_template_columns": null,
            "grid_template_rows": null,
            "height": null,
            "justify_content": null,
            "justify_items": null,
            "left": null,
            "margin": null,
            "max_height": null,
            "max_width": null,
            "min_height": null,
            "min_width": null,
            "object_fit": null,
            "object_position": null,
            "order": null,
            "overflow": null,
            "overflow_x": null,
            "overflow_y": null,
            "padding": null,
            "right": null,
            "top": null,
            "visibility": null,
            "width": null
          }
        },
        "b4249e5e214849c485bb0a9af14d4c2a": {
          "model_module": "@jupyter-widgets/controls",
          "model_name": "DescriptionStyleModel",
          "model_module_version": "1.5.0",
          "state": {
            "_model_module": "@jupyter-widgets/controls",
            "_model_module_version": "1.5.0",
            "_model_name": "DescriptionStyleModel",
            "_view_count": null,
            "_view_module": "@jupyter-widgets/base",
            "_view_module_version": "1.2.0",
            "_view_name": "StyleView",
            "description_width": ""
          }
        }
      }
    },
    "accelerator": "GPU"
  },
  "nbformat": 4,
  "nbformat_minor": 0
}